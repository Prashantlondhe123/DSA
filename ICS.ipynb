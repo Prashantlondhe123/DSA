{
  "nbformat": 4,
  "nbformat_minor": 0,
  "metadata": {
    "colab": {
      "name": "ICS.ipynb",
      "provenance": [],
      "authorship_tag": "ABX9TyObm8Sl0HplwAx2Z/uZXsGF",
      "include_colab_link": true
    },
    "kernelspec": {
      "name": "python3",
      "display_name": "Python 3"
    },
    "language_info": {
      "name": "python"
    }
  },
  "cells": [
    {
      "cell_type": "markdown",
      "metadata": {
        "id": "view-in-github",
        "colab_type": "text"
      },
      "source": [
        "<a href=\"https://colab.research.google.com/github/Prashantlondhe123/DSA/blob/main/ICS.ipynb\" target=\"_parent\"><img src=\"https://colab.research.google.com/assets/colab-badge.svg\" alt=\"Open In Colab\"/></a>"
      ]
    },
    {
      "cell_type": "code",
      "execution_count": null,
      "metadata": {
        "id": "pH5a8CCWEcUF"
      },
      "outputs": [],
      "source": [
        "Ass -1 - Di\n",
        "from random import randint\n",
        "\n",
        "if __name__ == '__main__':\n",
        "\n",
        "\t# Both the persons will be agreed upon the\n",
        "\t# public keys G and P\n",
        "\t# A prime number P is taken\n",
        "\tP = 23\n",
        "\t\n",
        "\t# A primitive root for P, G is taken\n",
        "\tG = 9\n",
        "\t\n",
        "\t\n",
        "\tprint('The Value of P is :%d'%(P))\n",
        "\tprint('The Value of G is :%d'%(G))\n",
        "\t\n",
        "\t# Alice will choose the private key a\n",
        "\ta = 4\n",
        "\tprint('The Private Key a for Alice is :%d'%(a))\n",
        "\t\n",
        "\t# gets the generated key\n",
        "\tx = int(pow(G,a,P))\n",
        "\t\n",
        "\t# Bob will choose the private key b\n",
        "\tb = 3\n",
        "\tprint('The Private Key b for Bob is :%d'%(b))\n",
        "\t\n",
        "\t# gets the generated key\n",
        "\ty = int(pow(G,b,P))\n",
        "\t\n",
        "\t\n",
        "\t# Secret key for Alice\n",
        "\tka = int(pow(y,a,P))\n",
        "\t\n",
        "\t# Secret key for Bob\n",
        "\tkb = int(pow(x,b,P))\n",
        "\t\n",
        "\tprint('Secret key for the Alice is : %d'%(ka))\n",
        "\tprint('Secret Key for the Bob is : %d'%(kb))\n",
        "\n",
        "\n",
        "out-\n",
        "\n",
        "The value of P : 23\n",
        "The value of G : 9\n",
        "\n",
        "The private key a for Alice : 4\n",
        "The private key b for Bob : 3\n",
        "\n",
        "Secret key for the Alice is : 9\n",
        "Secret Key for the Bob is : 9"
      ]
    },
    {
      "cell_type": "code",
      "source": [
        "Ass-2 R\n",
        "\n",
        "import math\n",
        " \n",
        "message = int(input(\"Enter the message to be encrypted: \")) \n",
        " \n",
        "p = 11\n",
        "q = 7\n",
        "e = 3\n",
        " \n",
        "n = p*q\n",
        " \n",
        "def encrypt(me):\n",
        "    en = math.pow(me,e)\n",
        "    c = en % n\n",
        "    print(\"Encrypted Message is: \", c)\n",
        "    return c\n",
        " \n",
        "print(\"Original Message is: \", message)\n",
        "c = encrypt(message)\n",
        "\n",
        "O-Enter the message to be encrypted: 89\n",
        "Original Message is:  89\n",
        "Encrypted Message is:  166"
      ],
      "metadata": {
        "id": "oVQAGFOZEx_h"
      },
      "execution_count": null,
      "outputs": []
    },
    {
      "cell_type": "code",
      "source": [
        "Ass-3 D\n",
        "pip install pycrypto\n",
        "from Crypto.Cipher import AES\n",
        " obj = AES.new('This is a key123', AES.MODE_CBC, 'This is an IV456')\n",
        " message = \"The answer is no\"\n",
        " ciphertext = obj.encrypt(message)\n",
        ">>> ciphertext\n",
        "output-'\\xd6\\x83\\x8dd!VT\\x92\\xaa`A\\x05\\xe0\\x9b\\x8b\\xf1'\n",
        " obj2 = AES.new('This is a key123', AES.MODE_CBC, 'This is an IV456')\n",
        ">>> obj2.decrypt(ciphertext)\n",
        "output-'The answer is no'"
      ],
      "metadata": {
        "id": "NpeTIKIuFQ6e"
      },
      "execution_count": null,
      "outputs": []
    }
  ]
}