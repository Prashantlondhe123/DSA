{
  "nbformat": 4,
  "nbformat_minor": 0,
  "metadata": {
    "colab": {
      "name": "LP3.ipynb",
      "provenance": [],
      "authorship_tag": "ABX9TyPQs/HTFPcBxZbC3BX34/FW",
      "include_colab_link": true
    },
    "kernelspec": {
      "name": "python3",
      "display_name": "Python 3"
    },
    "language_info": {
      "name": "python"
    }
  },
  "cells": [
    {
      "cell_type": "markdown",
      "metadata": {
        "id": "view-in-github",
        "colab_type": "text"
      },
      "source": [
        "<a href=\"https://colab.research.google.com/github/Prashantlondhe123/DSA/blob/main/LP3.ipynb\" target=\"_parent\"><img src=\"https://colab.research.google.com/assets/colab-badge.svg\" alt=\"Open In Colab\"/></a>"
      ]
    },
    {
      "cell_type": "code",
      "execution_count": null,
      "metadata": {
        "id": "Ly83Zouj4anE"
      },
      "outputs": [],
      "source": [
        "# Assignment 1 -Linear\n",
        "import pandas as pd \n",
        "import matplotlib.pyplot as plt \n",
        "\n",
        "df=pd.DataFrame({'NumofHrSpentDuring':[1,2,3,4,5],'RiskScoreOnScaleOf0_100':[2,4,6,8,10]})\n",
        "df.head()\n",
        "\n",
        "from sklearn import linear_model\n",
        "model=linear_model.LinearRegression()\n",
        "\n",
        "model.fit(df[['NumofHrSpentDuring']],df.RiskScoreOnScaleOf0_100)\n",
        "\n",
        "model.score(df[['NumofHrSpentDuring']],df.RiskScoreOnScaleOf0_100)\n",
        "\n",
        "model.coef_\n",
        "\n",
        "model.intercept_\n",
        "\n",
        "plt.scatter(df[['NumofHrSpentDuring']],df.RiskScoreOnScaleOf0_100)\n",
        "plt.show()"
      ]
    },
    {
      "cell_type": "code",
      "source": [
        "# assignment2- Decision Tree\n",
        "import pandas as pd \n",
        "import matplotlib.pyplot as plt \n",
        "\n",
        "df=pd.DataFrame({'id':[1,2,3,4,5],'Age':[1,1,0,2,2],'income':[0,0,0,2,1],'Gender':[1,1,1,1,0],'Marital_status':[1,0,1,1,1]})\n",
        "df.head()\n",
        "\n",
        "input1=df.drop('Marital_status', axis='columns')\n",
        "Target=df['Marital_status']\n",
        "\n",
        "input1\n",
        "\n",
        "Target\n",
        "\n",
        "from sklearn import tree\n",
        "model=tree.DecisionTreeClassifier()\n",
        "model.fit(input1,Target)\n",
        "\n",
        "model.score(input1,Target)\n",
        "\n",
        "model.predict([[1,1,0,1]])\n"
      ],
      "metadata": {
        "id": "_zm9yTvx5jES"
      },
      "execution_count": null,
      "outputs": []
    },
    {
      "cell_type": "code",
      "source": [
        "# Assignment 3 KNN\n",
        "x=[[2,4],[4,6],[4,4],[4,2],[6,4],[6,2]]\n",
        "y=[0,0,1,0,0,1]\n",
        "\n",
        "from sklearn.neighbors import KNeighborsClassifier\n",
        "model=KNeighborsClassifier( n_neighbors=3 )\n",
        "model.fit(x,y)\n",
        "\n",
        "model.predict([[6,6]])\n",
        "\n",
        "model.score(x,y)"
      ],
      "metadata": {
        "id": "tOPeMHK_7_cN"
      },
      "execution_count": null,
      "outputs": []
    },
    {
      "cell_type": "code",
      "source": [
        "# Assignment 4 KMeans\n",
        "x=[[0.1,0.6],[0.15,0.17],[0.08,0.9],[0.16,0.85],[0.2,0.3],[0.25,0.5],[0.24,0.1],[0.3,0.2]]\n",
        "\n",
        "from sklearn.cluster import KMeans\n",
        "model=KMeans(n_clusters=2,random_state=0)\n",
        "model.fit(x)\n",
        "\n",
        "l=model.labels_\n",
        "\n",
        "ct=0\n",
        "for i in l:\n",
        "    if i==1:\n",
        "        ct=ct+1\n",
        "print(\"Number of population around cluster2 \", ct-1)  \n",
        "\n",
        "print(' point 6(0.3,0.2]) id belongs to ', model.predict([[0.3,0.2]])\n",
        "\n",
        "print('Updated value of M1 , M2',model.cluster_centers_)\n",
        "\n",
        "\n"
      ],
      "metadata": {
        "id": "T_0VQBPJ8Yxj"
      },
      "execution_count": null,
      "outputs": []
    }
  ]
}