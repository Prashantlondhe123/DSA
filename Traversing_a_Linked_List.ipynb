{
  "nbformat": 4,
  "nbformat_minor": 0,
  "metadata": {
    "colab": {
      "name": "Traversing a Linked List.ipynb",
      "provenance": [],
      "authorship_tag": "ABX9TyM5UhqbAhwS5yh3KAgS7wFD",
      "include_colab_link": true
    },
    "kernelspec": {
      "name": "python3",
      "display_name": "Python 3"
    },
    "language_info": {
      "name": "python"
    }
  },
  "cells": [
    {
      "cell_type": "markdown",
      "metadata": {
        "id": "view-in-github",
        "colab_type": "text"
      },
      "source": [
        "<a href=\"https://colab.research.google.com/github/Prashantlondhe123/DSA/blob/main/Traversing_a_Linked_List.ipynb\" target=\"_parent\"><img src=\"https://colab.research.google.com/assets/colab-badge.svg\" alt=\"Open In Colab\"/></a>"
      ]
    },
    {
      "cell_type": "markdown",
      "source": [
        "#Inserting at the Beginning"
      ],
      "metadata": {
        "id": "o0wepzj_K9yt"
      }
    },
    {
      "cell_type": "markdown",
      "source": [
        ">This involves pointing the next pointer of the new data node to the current head of the linked list. So the current head of the linked list becomes the second data element and the new node becomes the head of the linked list."
      ],
      "metadata": {
        "id": "cZEvC_SwLCZu"
      }
    },
    {
      "cell_type": "code",
      "source": [
        "class Node:\n",
        "   def __init__(self, dataval=None):\n",
        "      self.dataval = dataval\n",
        "      self.nextval = None\n",
        "\n",
        "class SLinkedList:\n",
        "   def __init__(self):\n",
        "      self.headval = None\n",
        "# Print the linked list\n",
        "   def listprint(self):\n",
        "      printval = self.headval\n",
        "      while printval is not None:\n",
        "         print (printval.dataval)\n",
        "         printval = printval.nextval\n",
        "   def AtBegining(self,newdata):\n",
        "      NewNode = Node(newdata)\n",
        "\n",
        "# Update the new nodes next val to existing node\n",
        "   NewNode.nextval = self.headval\n",
        "   self.headval = NewNode\n",
        "\n",
        "list = SLinkedList()\n",
        "list.headval = Node(\"Mon\")\n",
        "e2 = Node(\"Tue\")\n",
        "e3 = Node(\"Wed\")\n",
        "\n",
        "list.headval.nextval = e2\n",
        "e2.nextval = e3\n",
        "\n",
        "list.AtBegining(\"Sun\")\n",
        "list.listprint()"
      ],
      "metadata": {
        "id": "Kf1In_eaNQRF"
      },
      "execution_count": null,
      "outputs": []
    }
  ]
}