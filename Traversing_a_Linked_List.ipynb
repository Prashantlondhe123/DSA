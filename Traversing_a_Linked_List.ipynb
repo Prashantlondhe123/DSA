{
  "nbformat": 4,
  "nbformat_minor": 0,
  "metadata": {
    "colab": {
      "name": "Traversing a Linked List.ipynb",
      "provenance": [],
      "authorship_tag": "ABX9TyMh+kS8lLscrqVLneudpTBX",
      "include_colab_link": true
    },
    "kernelspec": {
      "name": "python3",
      "display_name": "Python 3"
    },
    "language_info": {
      "name": "python"
    }
  },
  "cells": [
    {
      "cell_type": "markdown",
      "metadata": {
        "id": "view-in-github",
        "colab_type": "text"
      },
      "source": [
        "<a href=\"https://colab.research.google.com/github/Prashantlondhe123/DSA/blob/main/Traversing_a_Linked_List.ipynb\" target=\"_parent\"><img src=\"https://colab.research.google.com/assets/colab-badge.svg\" alt=\"Open In Colab\"/></a>"
      ]
    },
    {
      "cell_type": "markdown",
      "source": [
        "#Traversing a Linked List"
      ],
      "metadata": {
        "id": "o0wepzj_K9yt"
      }
    },
    {
      "cell_type": "markdown",
      "source": [
        "Singly linked lists can be traversed in only forward direction starting form the first data element. We simply print the value of the next data element by assigning the pointer of the next node to the current data element."
      ],
      "metadata": {
        "id": "cZEvC_SwLCZu"
      }
    },
    {
      "cell_type": "code",
      "execution_count": 2,
      "metadata": {
        "colab": {
          "base_uri": "https://localhost:8080/"
        },
        "id": "0bVSVE9CK3g1",
        "outputId": "072af0f1-d72e-4e9b-a382-c4f66329150d"
      },
      "outputs": [
        {
          "output_type": "stream",
          "name": "stdout",
          "text": [
            "Prashant\n",
            "Londhe\n",
            "Pushpa\n"
          ]
        }
      ],
      "source": [
        "class Node:\n",
        "  def __init__(self,dataval=None):\n",
        "    self.dataval=dataval\n",
        "    self.nextval=None\n",
        "\n",
        "class slinkedlist():\n",
        "  def __init__(self):\n",
        "    self.headval=None\n",
        "\n",
        "  def listprint(self):\n",
        "    printval=self.headval\n",
        "    while printval is not None:\n",
        "      print(printval.dataval)\n",
        "      printval=printval.nextval\n",
        "\n",
        "l= slinkedlist()     \n",
        "l.headval=Node('Prashant')\n",
        "e2 = Node(\"Londhe\")\n",
        "e3 = Node(\"Pushpa\")  \n",
        "l.headval.nextval=e2\n",
        "e2.nextval=e3\n",
        "\n",
        "\n",
        "l.listprint()"
      ]
    },
    {
      "cell_type": "code",
      "source": [
        ""
      ],
      "metadata": {
        "id": "Kf1In_eaNQRF"
      },
      "execution_count": null,
      "outputs": []
    }
  ]
}